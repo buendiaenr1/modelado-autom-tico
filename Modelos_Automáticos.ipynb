{
 "cells": [
  {
   "cell_type": "markdown",
   "metadata": {},
   "source": [
    "# Construcción automática de modelos\n",
    "## 2019\n",
    "### Enrique Buendia Lozada, BUAP. México\n",
    "\n",
    "Usando el Criterio de información Akaike (AIC), relaciona bondad del ajuste y complejidad del modelo, se basa en la entropía de la información que es una estimación relativa de la información perdida cuando se usa un modelo; por lo tanto, es mejor entre más pequeño."
   ]
  },
  {
   "cell_type": "code",
   "execution_count": 2,
   "metadata": {},
   "outputs": [
    {
     "name": "stdout",
     "output_type": "stream",
     "text": [
      "Start:  AIC=75.69\n",
      "fcm ~ edad + peso + est\n",
      "\n",
      "       Df Sum of Sq    RSS    AIC\n",
      "- est   1      0.48 1368.1 73.697\n",
      "- peso  1      4.62 1372.2 73.742\n",
      "<none>              1367.6 75.692\n",
      "- edad  1   1118.66 2486.3 82.657\n",
      "\n",
      "Step:  AIC=73.7\n",
      "fcm ~ edad + peso\n",
      "\n",
      "       Df Sum of Sq    RSS    AIC\n",
      "- peso  1    147.96 1516.1 73.237\n",
      "<none>              1368.1 73.697\n",
      "+ est   1      0.48 1367.6 75.692\n",
      "- edad  1   2480.57 3848.7 87.211\n",
      "\n",
      "Step:  AIC=73.24\n",
      "fcm ~ edad\n",
      "\n",
      "       Df Sum of Sq    RSS    AIC\n",
      "<none>              1516.1 73.237\n",
      "+ peso  1    147.96 1368.1 73.697\n",
      "+ est   1    143.83 1372.2 73.742\n",
      "- edad  1   2809.53 4325.6 86.964\n"
     ]
    },
    {
     "data": {
      "text/html": [
       "<table>\n",
       "<caption>A Anova: 3 × 6</caption>\n",
       "<thead>\n",
       "\t<tr><th scope=col>Step</th><th scope=col>Df</th><th scope=col>Deviance</th><th scope=col>Resid. Df</th><th scope=col>Resid. Dev</th><th scope=col>AIC</th></tr>\n",
       "\t<tr><th scope=col>&lt;fct&gt;</th><th scope=col>&lt;dbl&gt;</th><th scope=col>&lt;dbl&gt;</th><th scope=col>&lt;dbl&gt;</th><th scope=col>&lt;dbl&gt;</th><th scope=col>&lt;dbl&gt;</th></tr>\n",
       "</thead>\n",
       "<tbody>\n",
       "\t<tr><td>      </td><td>NA</td><td>         NA</td><td>11</td><td>1367.620</td><td>75.69166</td></tr>\n",
       "\t<tr><td>- est </td><td> 1</td><td>  0.4820712</td><td>12</td><td>1368.102</td><td>73.69694</td></tr>\n",
       "\t<tr><td>- peso</td><td> 1</td><td>147.9630733</td><td>13</td><td>1516.065</td><td>73.23735</td></tr>\n",
       "</tbody>\n",
       "</table>\n"
      ],
      "text/latex": [
       "A Anova: 3 × 6\n",
       "\\begin{tabular}{llllll}\n",
       " Step & Df & Deviance & Resid. Df & Resid. Dev & AIC\\\\\n",
       " <fct> & <dbl> & <dbl> & <dbl> & <dbl> & <dbl>\\\\\n",
       "\\hline\n",
       "\t        & NA &          NA & 11 & 1367.620 & 75.69166\\\\\n",
       "\t - est  &  1 &   0.4820712 & 12 & 1368.102 & 73.69694\\\\\n",
       "\t - peso &  1 & 147.9630733 & 13 & 1516.065 & 73.23735\\\\\n",
       "\\end{tabular}\n"
      ],
      "text/markdown": [
       "\n",
       "A Anova: 3 × 6\n",
       "\n",
       "| Step &lt;fct&gt; | Df &lt;dbl&gt; | Deviance &lt;dbl&gt; | Resid. Df &lt;dbl&gt; | Resid. Dev &lt;dbl&gt; | AIC &lt;dbl&gt; |\n",
       "|---|---|---|---|---|---|\n",
       "| <!----> | NA |          NA | 11 | 1367.620 | 75.69166 |\n",
       "| - est  |  1 |   0.4820712 | 12 | 1368.102 | 73.69694 |\n",
       "| - peso |  1 | 147.9630733 | 13 | 1516.065 | 73.23735 |\n",
       "\n"
      ],
      "text/plain": [
       "  Step   Df Deviance    Resid. Df Resid. Dev AIC     \n",
       "1        NA          NA 11        1367.620   75.69166\n",
       "2 - est   1   0.4820712 12        1368.102   73.69694\n",
       "3 - peso  1 147.9630733 13        1516.065   73.23735"
      ]
     },
     "metadata": {},
     "output_type": "display_data"
    }
   ],
   "source": [
    "#     https://www.rdocumentation.org/packages/MASS/versions/7.3-47/topics/stepAIC\n",
    "####     RDocumentation\n",
    "####     stepAIC\n",
    "####     Fecha de consulta: 16 de noviembre de 2019\n",
    "\n",
    "#######################################################################################\n",
    "# ejemplo de construcción del modelo de FCmax con los datos de data2\n",
    "#######################################################################################\n",
    "\n",
    "########################## ###############################################\n",
    "fcm<- read.csv(file.choose(),head=TRUE,sep=\";\")    ##### automático ; leer data2.csv\n",
    "# Stepwise Regression\n",
    "library(MASS)\n",
    "fit <- lm(fcm~edad+peso+est,data=fcm)  #### colocar todas las variables en el modelo inicial\n",
    "step <- stepAIC(fit, direction=\"both\")\n",
    "step$anova # mostrar el resultado\n",
    "\n"
   ]
  },
  {
   "cell_type": "markdown",
   "metadata": {},
   "source": [
    "#### En la tabla anterior se observa que el menor AIC\n",
    "#### es cuando ya se quito la variable est\n",
    "#### cuando ademas se quitó peso\n",
    "\n",
    "#### por lo que fcm~edad es el modelo con menor AIC"
   ]
  },
  {
   "cell_type": "code",
   "execution_count": 5,
   "metadata": {},
   "outputs": [
    {
     "data": {
      "text/plain": [
       "\n",
       "Call:\n",
       "lm(formula = fcm ~ edad, data = fcm)\n",
       "\n",
       "Residuals:\n",
       "    Min      1Q  Median      3Q     Max \n",
       "-19.892  -6.050  -1.892   4.656  20.834 \n",
       "\n",
       "Coefficients:\n",
       "            Estimate Std. Error t value Pr(>|t|)    \n",
       "(Intercept)  286.467     27.456  10.434  1.1e-07 ***\n",
       "edad          -5.863      1.195  -4.908 0.000286 ***\n",
       "---\n",
       "Signif. codes:  0 '***' 0.001 '**' 0.01 '*' 0.05 '.' 0.1 ' ' 1\n",
       "\n",
       "Residual standard error: 10.8 on 13 degrees of freedom\n",
       "Multiple R-squared:  0.6495,\tAdjusted R-squared:  0.6226 \n",
       "F-statistic: 24.09 on 1 and 13 DF,  p-value: 0.0002859\n"
      ]
     },
     "metadata": {},
     "output_type": "display_data"
    }
   ],
   "source": [
    "### verificar información\n",
    "fit <- lm(fcm~edad,data=fcm)\n",
    "summary(fit)\n"
   ]
  },
  {
   "cell_type": "code",
   "execution_count": 6,
   "metadata": {},
   "outputs": [
    {
     "data": {
      "text/html": [
       "'Y = 286.466557911909 + -5.86296900489396 * edad + e'"
      ],
      "text/latex": [
       "'Y = 286.466557911909 + -5.86296900489396 * edad + e'"
      ],
      "text/markdown": [
       "'Y = 286.466557911909 + -5.86296900489396 * edad + e'"
      ],
      "text/plain": [
       "[1] \"Y = 286.466557911909 + -5.86296900489396 * edad + e\""
      ]
     },
     "metadata": {},
     "output_type": "display_data"
    }
   ],
   "source": [
    "# El modelo mostrarlo en forma conocida\n",
    "cc <- fit$coefficients\n",
    "(eqn <- paste(\"Y =\", paste(cc[1], paste(cc[-1], names(cc[-1]), sep=\" * \", collapse=\" + \"), sep=\" + \"), \"+ e\"))"
   ]
  },
  {
   "cell_type": "code",
   "execution_count": null,
   "metadata": {},
   "outputs": [],
   "source": []
  }
 ],
 "metadata": {
  "kernelspec": {
   "display_name": "R",
   "language": "R",
   "name": "ir"
  },
  "language_info": {
   "codemirror_mode": "r",
   "file_extension": ".r",
   "mimetype": "text/x-r-source",
   "name": "R",
   "pygments_lexer": "r",
   "version": "3.6.1"
  }
 },
 "nbformat": 4,
 "nbformat_minor": 4
}
